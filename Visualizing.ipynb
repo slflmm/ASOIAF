{
 "cells": [
  {
   "cell_type": "code",
   "execution_count": 17,
   "metadata": {
    "collapsed": true
   },
   "outputs": [],
   "source": [
    "%matplotlib inline"
   ]
  },
  {
   "cell_type": "code",
   "execution_count": 18,
   "metadata": {
    "collapsed": false
   },
   "outputs": [],
   "source": [
    "import numpy as np\n",
    "import pandas as pd\n",
    "import matplotlib as mpl\n",
    "import matplotlib.pyplot as plt\n",
    "from collections import Counter\n",
    "import matplotlib.patches as mpatches"
   ]
  },
  {
   "cell_type": "code",
   "execution_count": 19,
   "metadata": {
    "collapsed": false
   },
   "outputs": [],
   "source": [
    "battles = pd.read_csv(\"data/battles.csv\")\n",
    "character_deaths = pd.read_csv(\"data/character-deaths.csv\")\n",
    "death_preds = pd.read_csv(\"data/character-predictions.csv\")"
   ]
  },
  {
   "cell_type": "markdown",
   "metadata": {},
   "source": [
    "# A look at the raw data..."
   ]
  },
  {
   "cell_type": "code",
   "execution_count": 20,
   "metadata": {
    "collapsed": false,
    "scrolled": true
   },
   "outputs": [
    {
     "name": "stdout",
     "output_type": "stream",
     "text": [
      "      S.No  actual  pred  alive   plod                  name  \\\n",
      "0        1       0     0  0.054  0.946  Viserys II Targaryen   \n",
      "1        2       1     0  0.387  0.613           Walder Frey   \n",
      "2        3       1     0  0.493  0.507          Addison Hill   \n",
      "3        4       0     0  0.076  0.924           Aemma Arryn   \n",
      "4        5       1     1  0.617  0.383        Sylva Santagar   \n",
      "5        6       1     0  0.021  0.979      Tommen Baratheon   \n",
      "6        7       0     0  0.014  0.986      Valarr Targaryen   \n",
      "7        8       0     0  0.036  0.964   Viserys I Targaryen   \n",
      "8        9       0     1  0.724  0.276               Wilbert   \n",
      "9       10       1     0  0.391  0.609        Wilbert Osgrey   \n",
      "10      11       0     0  0.167  0.833                  Will   \n",
      "11      12       1     1  0.985  0.015         Will (orphan)   \n",
      "12      13       1     1  0.813  0.187         Will (squire)   \n",
      "13      14       1     1  0.747  0.253      Will (Standfast)   \n",
      "14      15       1     1  0.705  0.295           Will (Treb)   \n",
      "15      16       1     1  0.996  0.004           Will Humble   \n",
      "16      17       1     1  0.984  0.016                Willam   \n",
      "17      18       1     1  0.604  0.396          Willem Wylde   \n",
      "18      19       1     1  0.998  0.002              Willifer   \n",
      "19      20       1     1  0.922  0.078                Willit   \n",
      "20      21       1     1  0.974  0.026           Willis Wode   \n",
      "21      22       1     0  0.022  0.978           Willis Fell   \n",
      "22      23       1     1  0.768  0.232         Willow Heddle   \n",
      "23      24       1     1  0.561  0.439                Willum   \n",
      "24      25       1     1  0.936  0.064                Wolmer   \n",
      "25      26       0     0  0.217  0.783      Willow Witch-eye   \n",
      "26      27       0     0  0.193  0.807                  Woth   \n",
      "27      28       1     1  0.710  0.290                 Wulfe   \n",
      "28      29       1     1  0.809  0.191      Wyl the Whittler   \n",
      "29      30       0     0  0.203  0.797           Wyl (guard)   \n",
      "...    ...     ...   ...    ...    ...                   ...   \n",
      "1916  1917       1     1  0.530  0.470      Tygett Lannister   \n",
      "1917  1918       1     1  0.759  0.241          Sarella Sand   \n",
      "1918  1919       0     0  0.001  0.999     Rhaegar Targaryen   \n",
      "1919  1920       0     0  0.035  0.965                 Drogo   \n",
      "1920  1921       1     0  0.138  0.862                Dunsen   \n",
      "1921  1922       0     0  0.115  0.885                 Barra   \n",
      "1922  1923       1     1  0.985  0.015        Bethany Bolton   \n",
      "1923  1924       1     1  0.570  0.430         Desmond Grell   \n",
      "1924  1925       1     0  0.353  0.647        Devan Seaworth   \n",
      "1925  1926       1     0  0.226  0.774                Gendry   \n",
      "1926  1927       1     1  0.964  0.036      Gran Goodbrother   \n",
      "1927  1928       1     0  0.468  0.532          Loras Tyrell   \n",
      "1928  1929       1     1  0.918  0.082               Ricasso   \n",
      "1929  1930       0     0  0.199  0.801       Stalwart Shield   \n",
      "1930  1931       1     0  0.146  0.854            Yohn Royce   \n",
      "1931  1932       1     0  0.284  0.716                Yandry   \n",
      "1932  1933       1     1  0.913  0.087                 Tarle   \n",
      "1933  1934       1     1  0.767  0.233                 Temmo   \n",
      "1934  1935       0     0  0.001  0.999        Rohanne Webber   \n",
      "1935  1936       1     1  0.930  0.070   Gormond Goodbrother   \n",
      "1936  1937       1     1  0.847  0.153         Walder Rivers   \n",
      "1937  1938       0     0  0.155  0.845   Symon Silver Tongue   \n",
      "1938  1939       1     0  0.201  0.799               Moqorro   \n",
      "1939  1940       1     1  0.982  0.018                   Meg   \n",
      "1940  1941       0     0  0.003  0.997        Laena Velaryon   \n",
      "1941  1942       0     1  0.803  0.197                 Luwin   \n",
      "1942  1943       0     1  0.987  0.013                  Reek   \n",
      "1943  1944       1     1  0.520  0.480      Symeon Star-Eyes   \n",
      "1944  1945       1     1  0.637  0.363             Coldhands   \n",
      "1945  1946       0     0  0.093  0.907       Tytos Lannister   \n",
      "\n",
      "                      title  male     culture  dateOfBirth  DateoFdeath  \\\n",
      "0                       NaN     1         NaN          NaN          NaN   \n",
      "1      Lord of the Crossing     1    Rivermen        208.0          NaN   \n",
      "2                       Ser     1         NaN          NaN          NaN   \n",
      "3                     Queen     0         NaN         82.0        105.0   \n",
      "4                Greenstone     0     Dornish        276.0          NaN   \n",
      "5                       NaN     1         NaN          NaN          NaN   \n",
      "6          Hand of the King     1    Valyrian        183.0        209.0   \n",
      "7                       NaN     1         NaN          NaN          NaN   \n",
      "8                       Ser     1         NaN          NaN        298.0   \n",
      "9                       Ser     1         NaN          NaN          NaN   \n",
      "10                      NaN     1         NaN          NaN        297.0   \n",
      "11                      NaN     0         NaN          NaN          NaN   \n",
      "12                      NaN     1         NaN          NaN          NaN   \n",
      "13                      NaN     0         NaN          NaN          NaN   \n",
      "14                      NaN     1         NaN          NaN          NaN   \n",
      "15                      NaN     1    Ironborn          NaN          NaN   \n",
      "16                      NaN     1         NaN          NaN          NaN   \n",
      "17                      Ser     1         NaN          NaN          NaN   \n",
      "18              Archmaester     0         NaN          NaN          NaN   \n",
      "19                      NaN     1         NaN          NaN          NaN   \n",
      "20                      Ser     1         NaN          NaN          NaN   \n",
      "21                      Ser     0         NaN          NaN          NaN   \n",
      "22                      NaN     0         NaN        289.0          NaN   \n",
      "23                      Ser     1         NaN          NaN          NaN   \n",
      "24                      NaN     1         NaN          NaN          NaN   \n",
      "25                      NaN     0   Free Folk          NaN        300.0   \n",
      "26                      NaN     1         NaN          NaN        299.0   \n",
      "27                      NaN     1    Ironborn          NaN          NaN   \n",
      "28                      NaN     0         NaN          NaN          NaN   \n",
      "29                      NaN     0    Northmen          NaN        298.0   \n",
      "...                     ...   ...         ...          ...          ...   \n",
      "1916                    Ser     1         NaN        250.0          NaN   \n",
      "1917                    NaN     0  Dornishmen        280.0          NaN   \n",
      "1918  Prince of Dragonstone     1    Valyrian        259.0        283.0   \n",
      "1919                   Khal     0    Dothraki        267.0     298299.0   \n",
      "1920                    NaN     1         NaN          NaN          NaN   \n",
      "1921                    NaN     1         NaN        298.0        299.0   \n",
      "1922          the Dreadfort     1    Northmen          NaN          NaN   \n",
      "1923                    Ser     0         NaN        237.0          NaN   \n",
      "1924                    NaN     1         NaN        287.0          NaN   \n",
      "1925                    Ser     1         NaN        284.0          NaN   \n",
      "1926                    NaN     1    Ironborn          NaN          NaN   \n",
      "1927                    Ser     1   The Reach        282.0          NaN   \n",
      "1928               Sunspear     0         NaN          NaN          NaN   \n",
      "1929                    NaN     0         NaN          NaN        300.0   \n",
      "1930              Runestone     1     Valemen          NaN          NaN   \n",
      "1931                    NaN     1         NaN          NaN          NaN   \n",
      "1932                    NaN     1    Ironborn          NaN          NaN   \n",
      "1933                   Khal     1    Dothraki          NaN          NaN   \n",
      "1934               Coldmoat     0         NaN        185.0          NaN   \n",
      "1935                    NaN     1    Ironborn        282.0          NaN   \n",
      "1936                    Ser     1    Rivermen          NaN          NaN   \n",
      "1937                    NaN     1         NaN          NaN        299.0   \n",
      "1938       Slave of R'hllor     1         NaN          NaN          NaN   \n",
      "1939                    NaN     0         NaN          NaN          NaN   \n",
      "1940                    NaN     0    Valyrian         93.0        120.0   \n",
      "1941                    NaN     1    Westeros          NaN        299.0   \n",
      "1942                    NaN     1         NaN          NaN        299.0   \n",
      "1943                    NaN     1         NaN          NaN          NaN   \n",
      "1944                    NaN     1         NaN          NaN          NaN   \n",
      "1945          Casterly Rock     1         NaN        220.0        267.0   \n",
      "\n",
      "                  mother            father                heir  \\\n",
      "0     Rhaenyra Targaryen  Daemon Targaryen  Aegon IV Targaryen   \n",
      "1                    NaN               NaN                 NaN   \n",
      "2                    NaN               NaN                 NaN   \n",
      "3                    NaN               NaN                 NaN   \n",
      "4                    NaN               NaN                 NaN   \n",
      "5       Cersei Lannister  Robert Baratheon  Myrcella Baratheon   \n",
      "6                    NaN               NaN                 NaN   \n",
      "7       Alyssa Targaryen  Baelon Targaryen  Rhaenyra Targaryen   \n",
      "8                    NaN               NaN                 NaN   \n",
      "9                    NaN               NaN                 NaN   \n",
      "10                   NaN               NaN                 NaN   \n",
      "11                   NaN               NaN                 NaN   \n",
      "12                   NaN               NaN                 NaN   \n",
      "13                   NaN               NaN                 NaN   \n",
      "14                   NaN               NaN                 NaN   \n",
      "15                   NaN               NaN                 NaN   \n",
      "16                   NaN               NaN                 NaN   \n",
      "17                   NaN               NaN                 NaN   \n",
      "18                   NaN               NaN                 NaN   \n",
      "19                   NaN               NaN                 NaN   \n",
      "20                   NaN               NaN                 NaN   \n",
      "21                   NaN               NaN                 NaN   \n",
      "22                   NaN               NaN                 NaN   \n",
      "23                   NaN               NaN                 NaN   \n",
      "24                   NaN               NaN                 NaN   \n",
      "25                   NaN               NaN                 NaN   \n",
      "26                   NaN               NaN                 NaN   \n",
      "27                   NaN               NaN                 NaN   \n",
      "28                   NaN               NaN                 NaN   \n",
      "29                   NaN               NaN                 NaN   \n",
      "...                  ...               ...                 ...   \n",
      "1916                 NaN               NaN                 NaN   \n",
      "1917                 NaN               NaN                 NaN   \n",
      "1918                 NaN               NaN                 NaN   \n",
      "1919                 NaN               NaN                 NaN   \n",
      "1920                 NaN               NaN                 NaN   \n",
      "1921                 NaN               NaN                 NaN   \n",
      "1922                 NaN               NaN                 NaN   \n",
      "1923                 NaN               NaN                 NaN   \n",
      "1924                 NaN               NaN                 NaN   \n",
      "1925                 NaN               NaN                 NaN   \n",
      "1926                 NaN               NaN                 NaN   \n",
      "1927                 NaN               NaN                 NaN   \n",
      "1928                 NaN               NaN                 NaN   \n",
      "1929                 NaN               NaN                 NaN   \n",
      "1930                 NaN               NaN                 NaN   \n",
      "1931                 NaN               NaN                 NaN   \n",
      "1932                 NaN               NaN                 NaN   \n",
      "1933                 NaN               NaN                 NaN   \n",
      "1934                 NaN               NaN                 NaN   \n",
      "1935                 NaN               NaN                 NaN   \n",
      "1936                 NaN               NaN                 NaN   \n",
      "1937                 NaN               NaN                 NaN   \n",
      "1938                 NaN               NaN                 NaN   \n",
      "1939                 NaN               NaN                 NaN   \n",
      "1940                 NaN               NaN                 NaN   \n",
      "1941                 NaN               NaN                 NaN   \n",
      "1942                 NaN               NaN                 NaN   \n",
      "1943                 NaN               NaN                 NaN   \n",
      "1944                 NaN               NaN                 NaN   \n",
      "1945                 NaN               NaN                 NaN   \n",
      "\n",
      "                            house               spouse  book1  book2  book3  \\\n",
      "0                             NaN                  NaN      0      0      0   \n",
      "1                      House Frey          Perra Royce      1      1      1   \n",
      "2                     House Swyft                  NaN      0      0      0   \n",
      "3                     House Arryn  Viserys I Targaryen      0      0      0   \n",
      "4                  House Santagar      Eldon Estermont      0      0      0   \n",
      "5                             NaN                  NaN      0      0      0   \n",
      "6                 House Targaryen      Kiera of Tyrosh      0      0      0   \n",
      "7                             NaN                  NaN      0      0      0   \n",
      "8                             NaN                  NaN      0      0      1   \n",
      "9                    House Osgrey                  NaN      0      0      0   \n",
      "10                  Night's Watch                  NaN      1      1      0   \n",
      "11                            NaN                  NaN      0      0      0   \n",
      "12                            NaN                  NaN      0      0      0   \n",
      "13                   House Osgrey                  NaN      0      0      0   \n",
      "14                   House Osgrey                  NaN      0      0      0   \n",
      "15                   House Humble                  NaN      0      0      0   \n",
      "16                            NaN                  NaN      0      0      0   \n",
      "17                    House Wylde                  NaN      0      0      0   \n",
      "18                            NaN                  NaN      0      0      0   \n",
      "19                    House Swyft                  NaN      0      1      0   \n",
      "20                     House Wode                  NaN      1      0      0   \n",
      "21                     House Fell                  NaN      0      0      0   \n",
      "22    Brotherhood Without Banners                  NaN      0      0      0   \n",
      "23                            NaN                  NaN      1      0      0   \n",
      "24                   House Webber                  NaN      0      0      0   \n",
      "25                            NaN                  NaN      0      0      0   \n",
      "26                            NaN                  NaN      0      1      0   \n",
      "27                  House Greyjoy                  NaN      0      0      0   \n",
      "28                            NaN                  NaN      0      0      1   \n",
      "29                    House Stark                  NaN      1      0      0   \n",
      "...                           ...                  ...    ...    ...    ...   \n",
      "1916              House Lannister    Darlessa Marbrand      1      1      1   \n",
      "1917                House Martell                  NaN      0      0      1   \n",
      "1918              House Targaryen         Elia Martell      1      1      1   \n",
      "1919                          NaN   Daenerys Targaryen      1      1      1   \n",
      "1920                House Clegane                  NaN      0      1      1   \n",
      "1921              House Baratheon                  NaN      1      1      0   \n",
      "1922                 House Bolton         Roose Bolton      0      0      0   \n",
      "1923                  House Grell                  NaN      1      1      1   \n",
      "1924               House Seaworth                  NaN      0      1      1   \n",
      "1925  brotherhood without banners                  NaN      1      1      1   \n",
      "1926            House Goodbrother                  NaN      0      0      0   \n",
      "1927                 House Tyrell                  NaN      1      1      1   \n",
      "1928                House Martell                  NaN      0      0      0   \n",
      "1929                    Unsullied                  NaN      0      0      0   \n",
      "1930                  House Royce                  NaN      1      1      1   \n",
      "1931              House Targaryen               Ysilla      0      0      0   \n",
      "1932                  Drowned men                  NaN      0      0      0   \n",
      "1933                          NaN                  NaN      0      0      1   \n",
      "1934                 House Webber       Simon Staunton      0      0      0   \n",
      "1935            House Goodbrother                  NaN      0      0      0   \n",
      "1936                   House Frey             Charlton      1      1      1   \n",
      "1937                          NaN                  NaN      0      1      1   \n",
      "1938                      R'hllor                  NaN      0      0      0   \n",
      "1939  Brotherhood Without Banners                  NaN      0      0      0   \n",
      "1940               House Velaryon     Daemon Targaryen      0      0      0   \n",
      "1941                  House Stark                  NaN      1      1      1   \n",
      "1942                 House Bolton                  NaN      0      1      0   \n",
      "1943                          NaN                  NaN      1      1      1   \n",
      "1944              Three-eyed crow                  NaN      0      0      1   \n",
      "1945              House Lannister       Jeyne Marbrand      0      0      1   \n",
      "\n",
      "      book4  book5  isAliveMother  isAliveFather  isAliveHeir  isAliveSpouse  \\\n",
      "0         0      0            1.0            0.0          0.0            NaN   \n",
      "1         1      1            NaN            NaN          NaN            1.0   \n",
      "2         1      0            NaN            NaN          NaN            NaN   \n",
      "3         0      0            NaN            NaN          NaN            0.0   \n",
      "4         1      0            NaN            NaN          NaN            1.0   \n",
      "5         0      0            1.0            1.0          1.0            NaN   \n",
      "6         0      0            NaN            NaN          NaN            1.0   \n",
      "7         0      0            1.0            1.0          1.0            NaN   \n",
      "8         0      0            NaN            NaN          NaN            NaN   \n",
      "9         0      0            NaN            NaN          NaN            NaN   \n",
      "10        0      0            NaN            NaN          NaN            NaN   \n",
      "11        1      0            NaN            NaN          NaN            NaN   \n",
      "12        0      0            NaN            NaN          NaN            NaN   \n",
      "13        0      0            NaN            NaN          NaN            NaN   \n",
      "14        0      0            NaN            NaN          NaN            NaN   \n",
      "15        1      0            NaN            NaN          NaN            NaN   \n",
      "16        1      0            NaN            NaN          NaN            NaN   \n",
      "17        0      0            NaN            NaN          NaN            NaN   \n",
      "18        1      0            NaN            NaN          NaN            NaN   \n",
      "19        0      0            NaN            NaN          NaN            NaN   \n",
      "20        1      0            NaN            NaN          NaN            NaN   \n",
      "21        0      0            NaN            NaN          NaN            NaN   \n",
      "22        1      0            NaN            NaN          NaN            NaN   \n",
      "23        0      0            NaN            NaN          NaN            NaN   \n",
      "24        0      0            NaN            NaN          NaN            NaN   \n",
      "25        0      1            NaN            NaN          NaN            NaN   \n",
      "26        0      0            NaN            NaN          NaN            NaN   \n",
      "27        1      1            NaN            NaN          NaN            NaN   \n",
      "28        0      0            NaN            NaN          NaN            NaN   \n",
      "29        0      0            NaN            NaN          NaN            NaN   \n",
      "...     ...    ...            ...            ...          ...            ...   \n",
      "1916      1      1            NaN            NaN          NaN            1.0   \n",
      "1917      1      1            NaN            NaN          NaN            NaN   \n",
      "1918      1      1            NaN            NaN          NaN            0.0   \n",
      "1919      0      1            NaN            NaN          NaN            1.0   \n",
      "1920      1      1            NaN            NaN          NaN            NaN   \n",
      "1921      0      1            NaN            NaN          NaN            NaN   \n",
      "1922      1      1            NaN            NaN          NaN            1.0   \n",
      "1923      1      0            NaN            NaN          NaN            NaN   \n",
      "1924      1      1            NaN            NaN          NaN            NaN   \n",
      "1925      1      0            NaN            NaN          NaN            NaN   \n",
      "1926      1      0            NaN            NaN          NaN            NaN   \n",
      "1927      1      1            NaN            NaN          NaN            NaN   \n",
      "1928      1      1            NaN            NaN          NaN            NaN   \n",
      "1929      0      1            NaN            NaN          NaN            NaN   \n",
      "1930      1      1            NaN            NaN          NaN            NaN   \n",
      "1931      0      1            NaN            NaN          NaN            1.0   \n",
      "1932      1      0            NaN            NaN          NaN            NaN   \n",
      "1933      0      0            NaN            NaN          NaN            NaN   \n",
      "1934      0      0            NaN            NaN          NaN            1.0   \n",
      "1935      1      0            NaN            NaN          NaN            NaN   \n",
      "1936      1      1            NaN            NaN          NaN            1.0   \n",
      "1937      0      1            NaN            NaN          NaN            NaN   \n",
      "1938      0      1            NaN            NaN          NaN            NaN   \n",
      "1939      1      0            NaN            NaN          NaN            NaN   \n",
      "1940      0      0            NaN            NaN          NaN            0.0   \n",
      "1941      1      1            NaN            NaN          NaN            NaN   \n",
      "1942      1      1            NaN            NaN          NaN            NaN   \n",
      "1943      1      1            NaN            NaN          NaN            NaN   \n",
      "1944      1      1            NaN            NaN          NaN            NaN   \n",
      "1945      1      1            NaN            NaN          NaN            1.0   \n",
      "\n",
      "      isMarried  isNoble    age  numDeadRelations  boolDeadRelations  \\\n",
      "0             0        0    NaN                11                  1   \n",
      "1             1        1   97.0                 1                  1   \n",
      "2             0        1    NaN                 0                  0   \n",
      "3             1        1   23.0                 0                  0   \n",
      "4             1        1   29.0                 0                  0   \n",
      "5             0        0    NaN                 5                  1   \n",
      "6             1        1   26.0                 0                  0   \n",
      "7             0        0    NaN                 5                  1   \n",
      "8             0        1    NaN                 0                  0   \n",
      "9             0        1    NaN                 0                  0   \n",
      "10            0        0    NaN                 0                  0   \n",
      "11            0        0    NaN                 0                  0   \n",
      "12            0        0    NaN                 0                  0   \n",
      "13            0        0    NaN                 0                  0   \n",
      "14            0        0    NaN                 0                  0   \n",
      "15            0        0    NaN                 0                  0   \n",
      "16            0        0    NaN                 0                  0   \n",
      "17            0        1    NaN                 0                  0   \n",
      "18            0        1    NaN                 0                  0   \n",
      "19            0        0    NaN                 0                  0   \n",
      "20            0        1    NaN                 0                  0   \n",
      "21            0        1    NaN                 0                  0   \n",
      "22            0        0   16.0                 0                  0   \n",
      "23            0        1    NaN                 0                  0   \n",
      "24            0        0    NaN                 0                  0   \n",
      "25            0        0    NaN                 0                  0   \n",
      "26            0        0    NaN                 0                  0   \n",
      "27            0        0    NaN                 0                  0   \n",
      "28            0        0    NaN                 0                  0   \n",
      "29            0        0    NaN                 0                  0   \n",
      "...         ...      ...    ...               ...                ...   \n",
      "1916          1        1   55.0                 0                  0   \n",
      "1917          0        0   25.0                 1                  1   \n",
      "1918          1        1   24.0                11                  1   \n",
      "1919          1        0   32.0                 5                  1   \n",
      "1920          0        0    NaN                 0                  0   \n",
      "1921          0        0    1.0                 1                  1   \n",
      "1922          1        1    NaN                 0                  0   \n",
      "1923          0        1   68.0                 0                  0   \n",
      "1924          0        0   18.0                 0                  0   \n",
      "1925          0        1   21.0                 2                  1   \n",
      "1926          0        0    NaN                 0                  0   \n",
      "1927          0        1   23.0                 2                  1   \n",
      "1928          0        1    NaN                 0                  0   \n",
      "1929          0        0    NaN                 0                  0   \n",
      "1930          0        1    NaN                 2                  1   \n",
      "1931          1        0    NaN                 0                  0   \n",
      "1932          0        0    NaN                 0                  0   \n",
      "1933          0        0    NaN                 0                  0   \n",
      "1934          1        1  100.0                 0                  0   \n",
      "1935          0        0   23.0                 0                  0   \n",
      "1936          1        1    NaN                 0                  0   \n",
      "1937          0        0    NaN                 0                  0   \n",
      "1938          0        1    NaN                 0                  0   \n",
      "1939          0        0    NaN                 0                  0   \n",
      "1940          1        0   27.0                 0                  0   \n",
      "1941          0        0    NaN                 0                  0   \n",
      "1942          0        0    NaN                 0                  0   \n",
      "1943          0        0    NaN                 0                  0   \n",
      "1944          0        0    NaN                 0                  0   \n",
      "1945          1        1   47.0                 4                  1   \n",
      "\n",
      "      isPopular  popularity  isAlive  \n",
      "0             1    0.605351        0  \n",
      "1             1    0.896321        1  \n",
      "2             0    0.267559        1  \n",
      "3             0    0.183946        0  \n",
      "4             0    0.043478        1  \n",
      "5             1    1.000000        1  \n",
      "6             1    0.431438        0  \n",
      "7             1    0.678930        0  \n",
      "8             0    0.006689        0  \n",
      "9             0    0.020067        1  \n",
      "10            0    0.163880        0  \n",
      "11            0    0.003344        1  \n",
      "12            0    0.003344        1  \n",
      "13            0    0.003344        1  \n",
      "14            0    0.003344        1  \n",
      "15            0    0.013378        1  \n",
      "16            0    0.013378        1  \n",
      "17            0    0.020067        1  \n",
      "18            0    0.006689        1  \n",
      "19            0    0.010033        1  \n",
      "20            0    0.020067        1  \n",
      "21            0    0.023411        1  \n",
      "22            0    0.033445        1  \n",
      "23            0    0.000000        1  \n",
      "24            0    0.003344        1  \n",
      "25            0    0.050167        0  \n",
      "26            0    0.030100        0  \n",
      "27            0    0.023411        1  \n",
      "28            0    0.006689        1  \n",
      "29            0    0.026756        0  \n",
      "...         ...         ...      ...  \n",
      "1916          0    0.110368        1  \n",
      "1917          0    0.103679        1  \n",
      "1918          1    0.799331        0  \n",
      "1919          1    0.558528        0  \n",
      "1920          0    0.040134        1  \n",
      "1921          0    0.107023        0  \n",
      "1922          0    0.043478        1  \n",
      "1923          0    0.076923        1  \n",
      "1924          0    0.093645        1  \n",
      "1925          1    0.438127        1  \n",
      "1926          0    0.026756        1  \n",
      "1927          1    0.665552        1  \n",
      "1928          0    0.070234        1  \n",
      "1929          0    0.043478        0  \n",
      "1930          0    0.170569        1  \n",
      "1931          0    0.050167        1  \n",
      "1932          0    0.026756        1  \n",
      "1933          0    0.020067        1  \n",
      "1934          0    0.170569        0  \n",
      "1935          0    0.040134        1  \n",
      "1936          0    0.080268        1  \n",
      "1937          0    0.046823        0  \n",
      "1938          0    0.123746        1  \n",
      "1939          0    0.010033        1  \n",
      "1940          0    0.140468        0  \n",
      "1941          1    0.351171        0  \n",
      "1942          0    0.096990        0  \n",
      "1943          0    0.030100        1  \n",
      "1944          0    0.130435        1  \n",
      "1945          0    0.210702        0  \n",
      "\n",
      "[1946 rows x 33 columns]\n"
     ]
    }
   ],
   "source": [
    "pd.set_option('display.max_columns', None)\n",
    "print(death_preds)"
   ]
  },
  {
   "cell_type": "markdown",
   "metadata": {
    "collapsed": true
   },
   "source": [
    "actual -- Is the character alive?\n",
    "\n",
    "pred -- Prediction (seems to match alive >= 0.5); we'll ignore this field\n",
    "\n",
    "alive -- The predicted probability of life; we'll ignore this field too\n",
    "\n",
    "plod -- The predicted probability of death (1 - alive); also ignored\n",
    "\n",
    "name -- It would be funny if it turned out GRRM killed off more characters with some specific syllable in their names.\n",
    "\n",
    "title -- Maybe reformulate to broader categories? \n",
    "\n",
    "male -- Straightforward\n",
    "\n",
    "culture -- Helpfully categorized here: https://www.kaggle.com/shaildeliwala/d/mylesoneill/game-of-thrones/exploratory-analysis\n",
    "\n",
    "dateOfBirth -- How do we want to handle NaNs? Naive approach is setting it to 0 but since it's a regression variable that would be a bit weird.\n",
    "\n",
    "dateOfDeath -- Same as above.\n",
    "\n",
    "mother -- Lots of NaNs here as well. Maybe just have a category \"Unknown\"?\n",
    "\n",
    "father -- Idem.\n",
    "\n",
    "heir -- Idem. Maybe turn this into hasKnownHeir?\n",
    "\n",
    "house -- Hahahaa. I predict this one has a big impact :P\n",
    "\n",
    "spouse -- Same as heir.\n",
    "\n",
    "book[1,2,3,4,5] -- Could be useful.\n",
    "\n",
    "isAlive[Mother, Father, Heir, Spouse] -- So many NaN :(\n",
    "\n",
    "isMarried -- Maybe? Twice the family relations, twice the chance of being involved in conflicts? lol.\n",
    "\n",
    "isNoble -- Hmm.\n",
    "\n",
    "age -- Relevant.\n",
    "\n",
    "numDeadRelations -- Probably another one of those high-impact variables. XD \"Oops all my friends died and I have no allies *dies*\"\n",
    "\n",
    "boolDeadRelations -- :D\n",
    "\n",
    "isPopular -- Hmmm. I can imagine degree of popularity being a thing.\n",
    "\n",
    "popularity -- :D\n",
    "\n",
    "isAlive -- Redundant O_o\""
   ]
  },
  {
   "cell_type": "markdown",
   "metadata": {},
   "source": [
    "# Some basic probability stuff"
   ]
  },
  {
   "cell_type": "markdown",
   "metadata": {},
   "source": [
    "### How likely is it to die, in general?"
   ]
  },
  {
   "cell_type": "code",
   "execution_count": 29,
   "metadata": {
    "collapsed": false
   },
   "outputs": [
    {
     "data": {
      "text/plain": [
       "<matplotlib.axes._subplots.AxesSubplot at 0x1144d5cf8>"
      ]
     },
     "execution_count": 29,
     "metadata": {},
     "output_type": "execute_result"
    },
    {
     "data": {
      "image/png": "[encoded data removed]",
      "text/plain": [
       "<matplotlib.figure.Figure at 0x1177b0be0>"
      ]
     },
     "metadata": {},
     "output_type": "display_data"
    }
   ],
   "source": [
    "death_preds.actual.value_counts().plot.pie(labels = [\"Alive\", \"Deceased\"], \\\n",
    "                                               colors = ['g','r'], \\\n",
    "                                               autopct = \"%.2f%%\", \\\n",
    "                                               fontsize = 14., \\\n",
    "                                               figsize = (6,6))"
   ]
  },
  {
   "cell_type": "markdown",
   "metadata": {},
   "source": [
    "We have imbalanced classes D: This can turn out very ugly because something like a linear regression might learn to just always predict the more common class.\n",
    "Luckily, there are some things we can do about it.\n",
    "http://machinelearningmastery.com/tactics-to-combat-imbalanced-classes-in-your-machine-learning-dataset/"
   ]
  },
  {
   "cell_type": "markdown",
   "metadata": {},
   "source": [
    "### ... Okay, how does popularity affect this?"
   ]
  },
  {
   "cell_type": "markdown",
   "metadata": {},
   "source": [
    "Looks like popularity is rare..."
   ]
  },
  {
   "cell_type": "code",
   "execution_count": 45,
   "metadata": {
    "collapsed": false
   },
   "outputs": [
    {
     "data": {
      "text/plain": [
       "<matplotlib.axes._subplots.AxesSubplot at 0x1177839e8>"
      ]
     },
     "execution_count": 45,
     "metadata": {},
     "output_type": "execute_result"
    },
    {
     "data": {
      "image/png": "[encoded data removed]",
      "text/plain": [
       "<matplotlib.figure.Figure at 0x11778f588>"
      ]
     },
     "metadata": {},
     "output_type": "display_data"
    }
   ],
   "source": [
    "death_preds.isPopular.value_counts().plot.pie(labels = ['Not popular', 'Popular'],\\\n",
    "                                             colors = ['b','y'],\\\n",
    "                                             autopct = '%.2f%%',\\\n",
    "                                             fontsize = 14.,\\\n",
    "                                             figsize = (6,6))"
   ]
  },
  {
   "cell_type": "markdown",
   "metadata": {},
   "source": [
    "But if you ARE popular, your chances of dying have just skyrocketed. Oops."
   ]
  },
  {
   "cell_type": "code",
   "execution_count": 52,
   "metadata": {
    "collapsed": false
   },
   "outputs": [
    {
     "data": {
      "image/png": "[encoded data removed]",
      "text/plain": [
       "<matplotlib.figure.Figure at 0x11b67bba8>"
      ]
     },
     "metadata": {},
     "output_type": "display_data"
    }
   ],
   "source": [
    "f, ax = plt.subplots(1, 2, figsize = (14, 6))\n",
    "f.suptitle(\"Status given popularity\", fontsize = 18.)\n",
    "ax[0].set_title(\"Popular\", fontsize = 16.)\n",
    "ax[1].set_title(\"Not popular\", fontsize = 16.)\n",
    "_ = death_preds.loc[death_preds['isPopular'] == 1].actual.value_counts().plot.pie(labels = ['Dead','Alive'],\\\n",
    "                                                                                 colors = ['r','g'], \\\n",
    "                                                                                 autopct = '%.2f%%', \\\n",
    "                                                                                 fontsize = 14., \\\n",
    "                                                                                 ax = ax[0])\n",
    "_ = death_preds.loc[death_preds['isPopular'] == 0].actual.value_counts().plot.pie(labels = ['Alive','Dead'],\\\n",
    "                                                                                 colors = ['g','r'], \\\n",
    "                                                                                 autopct = '%.2f%%', \\\n",
    "                                                                                 fontsize = 14., \\\n",
    "                                                                                 ax = ax[1])"
   ]
  },
  {
   "cell_type": "markdown",
   "metadata": {},
   "source": [
    "Now I'm curious what a regression on degree of popularity and probability of death looks like...\n",
    "Not caring about predictive accuracy, just want to see what the line of best fit for the overall data looks like."
   ]
  },
  {
   "cell_type": "code",
   "execution_count": 86,
   "metadata": {
    "collapsed": false
   },
   "outputs": [
    {
     "data": {
      "text/plain": [
       "(0, 1)"
      ]
     },
     "execution_count": 86,
     "metadata": {},
     "output_type": "execute_result"
    },
    {
     "data": {
      "image/png": "[encoded data removed]",
      "text/plain": [
       "<matplotlib.figure.Figure at 0x122b23b70>"
      ]
     },
     "metadata": {},
     "output_type": "display_data"
    }
   ],
   "source": [
    "from sklearn.linear_model import LogisticRegression\n",
    "lr = LogisticRegression()\n",
    "X = death_preds.popularity.values.reshape(-1,1)\n",
    "y = death_preds.actual.values\n",
    "lr.fit(X, y)\n",
    "spots = np.linspace(0,1,100).reshape(-1,1)\n",
    "probs = lr.predict_proba(spots)\n",
    "plt.scatter(spots, probs[:,0])\n",
    "plt.xlim(0,1)\n",
    "plt.ylim(0,1)"
   ]
  },
  {
   "cell_type": "markdown",
   "metadata": {},
   "source": [
    "And there you have it. More popular characters die more than their less favored brethren."
   ]
  },
  {
   "cell_type": "markdown",
   "metadata": {},
   "source": [
    "### And how do houses behave?"
   ]
  },
  {
   "cell_type": "markdown",
   "metadata": {},
   "source": [
    "TBC because I have to finish grading assignments T_T"
   ]
  },
  {
   "cell_type": "code",
   "execution_count": null,
   "metadata": {
    "collapsed": true
   },
   "outputs": [],
   "source": []
  }
 ],
 "metadata": {
  "kernelspec": {
   "display_name": "Python 3",
   "language": "python",
   "name": "python3"
  },
  "language_info": {
   "codemirror_mode": {
    "name": "ipython",
    "version": 3
   },
   "file_extension": ".py",
   "mimetype": "text/x-python",
   "name": "python",
   "nbconvert_exporter": "python",
   "pygments_lexer": "ipython3",
   "version": "3.5.1"
  }
 },
 "nbformat": 4,
 "nbformat_minor": 0
}
